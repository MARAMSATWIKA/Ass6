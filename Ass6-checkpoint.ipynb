{
 "cells": [
  {
   "cell_type": "markdown",
   "id": "5c405e0e",
   "metadata": {},
   "source": [
    "\n",
    "### Ass 1: 1"
   ]
  },
  {
   "cell_type": "code",
   "execution_count": 23,
   "id": "ece84b2a",
   "metadata": {},
   "outputs": [
    {
     "name": "stdout",
     "output_type": "stream",
     "text": [
      "Name: Satya Dev, DOB: 1999-05-05, Height: 180, City: Hyderabad, State: Telangana\n",
      "Name: Prakash Raj, DOB: 1998-09-09, Height: 198, City: Bidar, State: Karnataka\n",
      "Name: Surya Pratap, DOB: 2000-03-15, Height: 170, City: Miryalaguda, State: Telangana\n",
      "Name: Karunakar, DOB: 2001-04-14, Height: 175, City: Thiruvananthapuram, State: Kerala\n",
      "Name: Paresh, DOB: 1996-03-23, Height: 190, City: Chennai, State: TamilNadu\n"
     ]
    }
   ],
   "source": [
    "import json\n",
    "class Employee:\n",
    "    def __init__(self, Name, DOB, Height, City, State):\n",
    "        self.Name = Name\n",
    "        self.DOB = DOB\n",
    "        self.Height = Height\n",
    "        self.City = City\n",
    "        self.State = State\n",
    "    def __str__(self):\n",
    "        return f\"Name: {self.Name}, DOB: {self.DOB}, Height: {self.Height}, City: {self.City}, State: {self.State}\"\n",
    "with open(\"employee.json\", \"r\") as file:\n",
    "    employee_data = json.load(file)\n",
    "employees = []\n",
    "for emp_data in employee_data:\n",
    "    employee = Employee(\n",
    "                        emp_data[\"Name\"],\n",
    "                        emp_data[\"DOB\"],\n",
    "                        emp_data[\"Height\"],\n",
    "                        emp_data[\"City\"],\n",
    "                        emp_data[\"State\"]\n",
    "                       )\n",
    "    employees.append(employee)\n",
    "\n",
    "for employee in employees:\n",
    "    print(employee)\n"
   ]
  },
  {
   "cell_type": "code",
   "execution_count": null,
   "id": "3ff8e9c9",
   "metadata": {},
   "outputs": [],
   "source": []
  },
  {
   "cell_type": "markdown",
   "id": "35f048f0",
   "metadata": {},
   "source": [
    "### Ass 1: 2"
   ]
  },
  {
   "cell_type": "code",
   "execution_count": 20,
   "id": "b7df5cb6",
   "metadata": {},
   "outputs": [],
   "source": [
    "st_cap={\"Telangana\":\"Hyderabad\",\"Karnataka\":\"Bengaluru\",\"TamilNadu\":\"Chennai\",\"Maharashtra\":\"Mumbai\",\"Rajasthan\":\"Jaipur\",\"Bihar\":\"Patna\",\"Kerala\":\"Thiruvananthapuram\"}"
   ]
  },
  {
   "cell_type": "code",
   "execution_count": 21,
   "id": "de1fac4a",
   "metadata": {},
   "outputs": [],
   "source": [
    "with open (\"State&capital.json\",'w') as file_handler:\n",
    "    file_handler.write(json.dumps(st_cap))"
   ]
  },
  {
   "cell_type": "markdown",
   "id": "8e17fcdb",
   "metadata": {},
   "source": [
    "### Ass 2: 1"
   ]
  },
  {
   "cell_type": "code",
   "execution_count": null,
   "id": "6f8a8d0e",
   "metadata": {},
   "outputs": [],
   "source": []
  },
  {
   "cell_type": "code",
   "execution_count": 51,
   "id": "a9b3b218",
   "metadata": {},
   "outputs": [
    {
     "name": "stdout",
     "output_type": "stream",
     "text": [
      " \n",
      "Name of the dog: Chotu\n",
      "Age of the dog: 12\n",
      "Coat color of the dog: black\n",
      "Chotu walks\n",
      "Chotu eats\n",
      "Name of the dog: Charlie\n",
      "Age of the dog: 15\n",
      "Coat color of the dog: Brown\n",
      "Charlie Barks\n",
      "Charlie runs\n"
     ]
    }
   ],
   "source": [
    "class Dog:\n",
    "    def __init__(self,name,age,coat_color):\n",
    "        self.name=name\n",
    "        self.age=age\n",
    "        self.coat_color=coat_color\n",
    "    def description(self):\n",
    "        print(\"Name of the dog:\",self.name)\n",
    "        print(\"Age of the dog:\",self.age)\n",
    "    def get_info(self):\n",
    "        print(\"Coat color of the dog:\",self.coat_color)\n",
    "class JackRussellTerrier(Dog):\n",
    "    def __init__(self,name,age,coat_color):\n",
    "        Dog.__init__(self,name,age,coat_color)\n",
    "        print(\" \")\n",
    "    def Walk(self):\n",
    "        print(\"{} walks\".format(self.name))\n",
    "    def Eats(self):\n",
    "        print(\"{} eats\".format(self.name))\n",
    "class Bulldog(Dog):\n",
    "    def __init__(self,name,age,coat_color):\n",
    "        Dog.__init__(self,name,age,coat_color)\n",
    "    def Barks(self):\n",
    "        print(\"{} Barks\".format(self.name))\n",
    "    def Runs(self):\n",
    "        print(\"{} runs\".format(self.name))\n",
    "\n",
    "dog_1=JackRussellTerrier(\"Chotu\",12,\"black\")  \n",
    "\n",
    "dog_1.description()\n",
    "\n",
    "dog_1.get_info()\n",
    "dog_1.Walk()\n",
    "dog_1.Eats()\n",
    "dog_2=Bulldog(\"Charlie\",15,\"Brown\")\n",
    "dog_2.description()\n",
    "dog_2.get_info()\n",
    "dog_2.Barks()\n",
    "dog_2.Runs()"
   ]
  },
  {
   "cell_type": "code",
   "execution_count": null,
   "id": "d5942ad5",
   "metadata": {},
   "outputs": [],
   "source": []
  }
 ],
 "metadata": {
  "kernelspec": {
   "display_name": "Python 3 (ipykernel)",
   "language": "python",
   "name": "python3"
  },
  "language_info": {
   "codemirror_mode": {
    "name": "ipython",
    "version": 3
   },
   "file_extension": ".py",
   "mimetype": "text/x-python",
   "name": "python",
   "nbconvert_exporter": "python",
   "pygments_lexer": "ipython3",
   "version": "3.9.7"
  }
 },
 "nbformat": 4,
 "nbformat_minor": 5
}
